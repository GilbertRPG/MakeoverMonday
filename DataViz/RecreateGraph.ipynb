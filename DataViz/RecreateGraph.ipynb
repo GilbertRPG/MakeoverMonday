{
 "cells": [
  {
   "cell_type": "code",
   "execution_count": 166,
   "id": "0d33e259-5766-4e60-93dc-a20103ef208e",
   "metadata": {},
   "outputs": [],
   "source": [
    "import pandas as pd\n",
    "import numpy as np\n",
    "import matplotlib.pyplot as plt\n",
    "import seaborn as sns"
   ]
  },
  {
   "cell_type": "code",
   "execution_count": 211,
   "id": "18405637-5457-4a84-8c0a-979bc147abfa",
   "metadata": {},
   "outputs": [
    {
     "data": {
      "text/html": [
       "<div>\n",
       "<style scoped>\n",
       "    .dataframe tbody tr th:only-of-type {\n",
       "        vertical-align: middle;\n",
       "    }\n",
       "\n",
       "    .dataframe tbody tr th {\n",
       "        vertical-align: top;\n",
       "    }\n",
       "\n",
       "    .dataframe thead th {\n",
       "        text-align: right;\n",
       "    }\n",
       "</style>\n",
       "<table border=\"1\" class=\"dataframe\">\n",
       "  <thead>\n",
       "    <tr style=\"text-align: right;\">\n",
       "      <th></th>\n",
       "      <th>Region</th>\n",
       "      <th>Year</th>\n",
       "      <th>Import in tonnes</th>\n",
       "    </tr>\n",
       "  </thead>\n",
       "  <tbody>\n",
       "    <tr>\n",
       "      <th>0</th>\n",
       "      <td>Asia &amp; Oceania</td>\n",
       "      <td>2015</td>\n",
       "      <td>565000</td>\n",
       "    </tr>\n",
       "    <tr>\n",
       "      <th>1</th>\n",
       "      <td>Asia &amp; Oceania</td>\n",
       "      <td>2016</td>\n",
       "      <td>592000</td>\n",
       "    </tr>\n",
       "    <tr>\n",
       "      <th>2</th>\n",
       "      <td>Asia &amp; Oceania</td>\n",
       "      <td>2017</td>\n",
       "      <td>866000</td>\n",
       "    </tr>\n",
       "    <tr>\n",
       "      <th>3</th>\n",
       "      <td>Asia &amp; Oceania</td>\n",
       "      <td>2018</td>\n",
       "      <td>927000</td>\n",
       "    </tr>\n",
       "    <tr>\n",
       "      <th>4</th>\n",
       "      <td>Asia &amp; Oceania</td>\n",
       "      <td>2019</td>\n",
       "      <td>924000</td>\n",
       "    </tr>\n",
       "  </tbody>\n",
       "</table>\n",
       "</div>"
      ],
      "text/plain": [
       "           Region  Year  Import in tonnes\n",
       "0  Asia & Oceania  2015            565000\n",
       "1  Asia & Oceania  2016            592000\n",
       "2  Asia & Oceania  2017            866000\n",
       "3  Asia & Oceania  2018            927000\n",
       "4  Asia & Oceania  2019            924000"
      ]
     },
     "execution_count": 211,
     "metadata": {},
     "output_type": "execute_result"
    }
   ],
   "source": [
    "filename = 'C:/Users/yanni/Documents/GitHub/MakeoverMonday/Excel/Global import of cocoa beans.xlsx'\n",
    "df = pd.read_excel(filename, engine = 'openpyxl')\n",
    "df.head()"
   ]
  },
  {
   "cell_type": "code",
   "execution_count": 168,
   "id": "e479cffc-8f8b-4cae-a019-c6c10e4e0ea8",
   "metadata": {},
   "outputs": [],
   "source": [
    "AS = df['Region'] == 'Asia & Oceania'\n",
    "EU = df['Region'] == 'Europe'\n",
    "AM = df['Region'] == 'Americas'\n",
    "df_as = df.loc[AS, :]\n",
    "df_eu = df.loc[EU, :]\n",
    "df_am = df.loc[AM, :]"
   ]
  },
  {
   "cell_type": "code",
   "execution_count": 209,
   "id": "5d92349c-5aee-4613-9c1a-90d7e0a84553",
   "metadata": {},
   "outputs": [
    {
     "data": {
      "text/plain": [
       "Text(0.5, 1.0, 'Americas')"
      ]
     },
     "execution_count": 209,
     "metadata": {},
     "output_type": "execute_result"
    },
    {
     "data": {
      "image/png": "[encoded data removed]",
      "text/plain": [
       "<Figure size 1080x288 with 3 Axes>"
      ]
     },
     "metadata": {},
     "output_type": "display_data"
    }
   ],
   "source": [
    "fig, axes = plt.subplots(nrows=1, ncols=3, figsize=(15,4))\n",
    "plt.style.use('fast')\n",
    "axes[0].bar(df_as['Year'].values, df_as['Import in tonnes'])\n",
    "axes[0].set_title('Asia and Oceania')\n",
    "axes[1].bar(df_eu['Year'].values, df_eu['Import in tonnes'])\n",
    "axes[1].set_title('Europe')\n",
    "axes[2].bar(df_am['Year'].values, df_am['Import in tonnes'])\n",
    "axes[2].set_title('Americas')"
   ]
  },
  {
   "cell_type": "code",
   "execution_count": null,
   "id": "853f9a21-e862-49ba-a592-3cc27838a507",
   "metadata": {},
   "outputs": [],
   "source": []
  }
 ],
 "metadata": {
  "kernelspec": {
   "display_name": "Python 3",
   "language": "python",
   "name": "python3"
  },
  "language_info": {
   "codemirror_mode": {
    "name": "ipython",
    "version": 3
   },
   "file_extension": ".py",
   "mimetype": "text/x-python",
   "name": "python",
   "nbconvert_exporter": "python",
   "pygments_lexer": "ipython3",
   "version": "3.8.5"
  }
 },
 "nbformat": 4,
 "nbformat_minor": 5
}
