{
 "cells": [
  {
   "cell_type": "code",
   "execution_count": 2,
   "id": "0d33e259-5766-4e60-93dc-a20103ef208e",
   "metadata": {},
   "outputs": [],
   "source": [
    "import pandas as pd\n",
    "import numpy as np\n",
    "import matplotlib.pyplot as plt"
   ]
  },
  {
   "cell_type": "code",
   "execution_count": 10,
   "id": "18405637-5457-4a84-8c0a-979bc147abfa",
   "metadata": {},
   "outputs": [
    {
     "data": {
      "text/html": [
       "<div>\n",
       "<style scoped>\n",
       "    .dataframe tbody tr th:only-of-type {\n",
       "        vertical-align: middle;\n",
       "    }\n",
       "\n",
       "    .dataframe tbody tr th {\n",
       "        vertical-align: top;\n",
       "    }\n",
       "\n",
       "    .dataframe thead th {\n",
       "        text-align: right;\n",
       "    }\n",
       "</style>\n",
       "<table border=\"1\" class=\"dataframe\">\n",
       "  <thead>\n",
       "    <tr style=\"text-align: right;\">\n",
       "      <th></th>\n",
       "      <th>Region</th>\n",
       "      <th>Year</th>\n",
       "      <th>Import in tonnes</th>\n",
       "    </tr>\n",
       "  </thead>\n",
       "  <tbody>\n",
       "    <tr>\n",
       "      <th>0</th>\n",
       "      <td>Asia &amp; Oceania</td>\n",
       "      <td>2015</td>\n",
       "      <td>565000</td>\n",
       "    </tr>\n",
       "    <tr>\n",
       "      <th>1</th>\n",
       "      <td>Asia &amp; Oceania</td>\n",
       "      <td>2016</td>\n",
       "      <td>592000</td>\n",
       "    </tr>\n",
       "    <tr>\n",
       "      <th>2</th>\n",
       "      <td>Asia &amp; Oceania</td>\n",
       "      <td>2017</td>\n",
       "      <td>866000</td>\n",
       "    </tr>\n",
       "    <tr>\n",
       "      <th>3</th>\n",
       "      <td>Asia &amp; Oceania</td>\n",
       "      <td>2018</td>\n",
       "      <td>927000</td>\n",
       "    </tr>\n",
       "    <tr>\n",
       "      <th>4</th>\n",
       "      <td>Asia &amp; Oceania</td>\n",
       "      <td>2019</td>\n",
       "      <td>924000</td>\n",
       "    </tr>\n",
       "  </tbody>\n",
       "</table>\n",
       "</div>"
      ],
      "text/plain": [
       "           Region  Year  Import in tonnes\n",
       "0  Asia & Oceania  2015            565000\n",
       "1  Asia & Oceania  2016            592000\n",
       "2  Asia & Oceania  2017            866000\n",
       "3  Asia & Oceania  2018            927000\n",
       "4  Asia & Oceania  2019            924000"
      ]
     },
     "execution_count": 10,
     "metadata": {},
     "output_type": "execute_result"
    }
   ],
   "source": [
    "filename = 'C:/Users/yanni/Documents/GitHub/MakeoverMonday/Excel/Global import of cocoa beans.xlsx'\n",
    "df = pd.read_excel(filename)\n",
    "df.head()"
   ]
  },
  {
   "cell_type": "code",
   "execution_count": 27,
   "id": "9b51f5d6-f1a0-4a46-a7b2-944aa2c0adcb",
   "metadata": {},
   "outputs": [
    {
     "name": "stdout",
     "output_type": "stream",
     "text": [
      "<class 'pandas.core.frame.DataFrame'>\n",
      "RangeIndex: 15 entries, 0 to 14\n",
      "Data columns (total 3 columns):\n",
      " #   Column            Non-Null Count  Dtype \n",
      "---  ------            --------------  ----- \n",
      " 0   Region            15 non-null     object\n",
      " 1   Year              15 non-null     int64 \n",
      " 2   Import in tonnes  15 non-null     int64 \n",
      "dtypes: int64(2), object(1)\n",
      "memory usage: 488.0+ bytes\n"
     ]
    }
   ],
   "source": [
    "df.info()"
   ]
  },
  {
   "cell_type": "code",
   "execution_count": 34,
   "id": "e479cffc-8f8b-4cae-a019-c6c10e4e0ea8",
   "metadata": {},
   "outputs": [],
   "source": [
    "AS = df['Region'] == 'Asia & Oceania'\n",
    "EU = df['Region'] == 'Europe'\n",
    "AM = df['Region'] == 'Americas'\n",
    "df_as = df.loc[AS, :]\n",
    "df_eu = df.loc[EU, :]\n",
    "df_am = df.loc[AM, :]"
   ]
  },
  {
   "cell_type": "code",
   "execution_count": 39,
   "id": "24d97738-cca8-40fd-ba9d-5ce95d4310e0",
   "metadata": {},
   "outputs": [
    {
     "data": {
      "text/plain": [
       "0      565000\n",
       "1      592000\n",
       "2      866000\n",
       "3      927000\n",
       "4      924000\n",
       "5     1997000\n",
       "6     2219000\n",
       "7     2444000\n",
       "8     2554000\n",
       "9     2500000\n",
       "10     592000\n",
       "11     586000\n",
       "12     651000\n",
       "13     621000\n",
       "14     549000\n",
       "Name: Import in tonnes, dtype: int64"
      ]
     },
     "execution_count": 39,
     "metadata": {},
     "output_type": "execute_result"
    }
   ],
   "source": [
    "tonnes = df['Import in tonnes']\n",
    "tonnes"
   ]
  },
  {
   "cell_type": "code",
   "execution_count": 44,
   "id": "93acf2c8-77fa-43bd-9895-6b9e41c63c96",
   "metadata": {},
   "outputs": [
    {
     "data": {
      "text/plain": [
       "<BarContainer object of 15 artists>"
      ]
     },
     "execution_count": 44,
     "metadata": {},
     "output_type": "execute_result"
    },
    {
     "data": {
      "image/png": "[encoded data removed]",
      "text/plain": [
       "<Figure size 576x288 with 1 Axes>"
      ]
     },
     "metadata": {
      "needs_background": "light"
     },
     "output_type": "display_data"
    }
   ],
   "source": [
    "plt.figure(figsize = (8,4))\n",
    "# Plot 1 - AS\n",
    "plt.subplot(1, 2, 1);\n",
    "\n",
    "plt.bar(df['Year'].values, tonnes.values)"
   ]
  },
  {
   "cell_type": "code",
   "execution_count": null,
   "id": "d5e640a8-17c2-4046-adbd-f4a1332814e1",
   "metadata": {},
   "outputs": [],
   "source": []
  }
 ],
 "metadata": {
  "kernelspec": {
   "display_name": "Python 3",
   "language": "python",
   "name": "python3"
  },
  "language_info": {
   "codemirror_mode": {
    "name": "ipython",
    "version": 3
   },
   "file_extension": ".py",
   "mimetype": "text/x-python",
   "name": "python",
   "nbconvert_exporter": "python",
   "pygments_lexer": "ipython3",
   "version": "3.9.4"
  }
 },
 "nbformat": 4,
 "nbformat_minor": 5
}
