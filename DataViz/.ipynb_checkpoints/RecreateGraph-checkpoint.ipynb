{
 "cells": [
  {
   "cell_type": "code",
   "execution_count": 2,
   "id": "0d33e259-5766-4e60-93dc-a20103ef208e",
   "metadata": {},
   "outputs": [],
   "source": [
    "import pandas as pd\n",
    "import numpy as np\n",
    "import matplotlib.pyplot as plt"
   ]
  },
  {
   "cell_type": "code",
   "execution_count": 10,
   "id": "18405637-5457-4a84-8c0a-979bc147abfa",
   "metadata": {},
   "outputs": [
    {
     "data": {
      "text/html": [
       "<div>\n",
       "<style scoped>\n",
       "    .dataframe tbody tr th:only-of-type {\n",
       "        vertical-align: middle;\n",
       "    }\n",
       "\n",
       "    .dataframe tbody tr th {\n",
       "        vertical-align: top;\n",
       "    }\n",
       "\n",
       "    .dataframe thead th {\n",
       "        text-align: right;\n",
       "    }\n",
       "</style>\n",
       "<table border=\"1\" class=\"dataframe\">\n",
       "  <thead>\n",
       "    <tr style=\"text-align: right;\">\n",
       "      <th></th>\n",
       "      <th>Region</th>\n",
       "      <th>Year</th>\n",
       "      <th>Import in tonnes</th>\n",
       "    </tr>\n",
       "  </thead>\n",
       "  <tbody>\n",
       "    <tr>\n",
       "      <th>0</th>\n",
       "      <td>Asia &amp; Oceania</td>\n",
       "      <td>2015</td>\n",
       "      <td>565000</td>\n",
       "    </tr>\n",
       "    <tr>\n",
       "      <th>1</th>\n",
       "      <td>Asia &amp; Oceania</td>\n",
       "      <td>2016</td>\n",
       "      <td>592000</td>\n",
       "    </tr>\n",
       "    <tr>\n",
       "      <th>2</th>\n",
       "      <td>Asia &amp; Oceania</td>\n",
       "      <td>2017</td>\n",
       "      <td>866000</td>\n",
       "    </tr>\n",
       "    <tr>\n",
       "      <th>3</th>\n",
       "      <td>Asia &amp; Oceania</td>\n",
       "      <td>2018</td>\n",
       "      <td>927000</td>\n",
       "    </tr>\n",
       "    <tr>\n",
       "      <th>4</th>\n",
       "      <td>Asia &amp; Oceania</td>\n",
       "      <td>2019</td>\n",
       "      <td>924000</td>\n",
       "    </tr>\n",
       "  </tbody>\n",
       "</table>\n",
       "</div>"
      ],
      "text/plain": [
       "           Region  Year  Import in tonnes\n",
       "0  Asia & Oceania  2015            565000\n",
       "1  Asia & Oceania  2016            592000\n",
       "2  Asia & Oceania  2017            866000\n",
       "3  Asia & Oceania  2018            927000\n",
       "4  Asia & Oceania  2019            924000"
      ]
     },
     "execution_count": 10,
     "metadata": {},
     "output_type": "execute_result"
    }
   ],
   "source": [
    "filename = 'C:/Users/yanni/Documents/GitHub/MakeoverMonday/Excel/Global import of cocoa beans.xlsx'\n",
    "df = pd.read_excel(filename)\n",
    "df.head()"
   ]
  },
  {
   "cell_type": "code",
   "execution_count": 15,
   "id": "9b51f5d6-f1a0-4a46-a7b2-944aa2c0adcb",
   "metadata": {},
   "outputs": [
    {
     "data": {
      "text/plain": [
       "['Asia & Oceania',\n",
       " 'Asia & Oceania',\n",
       " 'Asia & Oceania',\n",
       " 'Asia & Oceania',\n",
       " 'Asia & Oceania',\n",
       " 'Europe',\n",
       " 'Europe',\n",
       " 'Europe',\n",
       " 'Europe',\n",
       " 'Europe',\n",
       " 'Americas',\n",
       " 'Americas',\n",
       " 'Americas',\n",
       " 'Americas',\n",
       " 'Americas']"
      ]
     },
     "execution_count": 15,
     "metadata": {},
     "output_type": "execute_result"
    }
   ],
   "source": [
    "df['Region'].tolist()"
   ]
  },
  {
   "cell_type": "code",
   "execution_count": null,
   "id": "e479cffc-8f8b-4cae-a019-c6c10e4e0ea8",
   "metadata": {},
   "outputs": [],
   "source": []
  }
 ],
 "metadata": {
  "kernelspec": {
   "display_name": "Python 3",
   "language": "python",
   "name": "python3"
  },
  "language_info": {
   "codemirror_mode": {
    "name": "ipython",
    "version": 3
   },
   "file_extension": ".py",
   "mimetype": "text/x-python",
   "name": "python",
   "nbconvert_exporter": "python",
   "pygments_lexer": "ipython3",
   "version": "3.9.4"
  }
 },
 "nbformat": 4,
 "nbformat_minor": 5
}
